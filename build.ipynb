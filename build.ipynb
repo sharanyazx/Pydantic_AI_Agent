{
 "cells": [
  {
   "cell_type": "code",
   "execution_count": 17,
   "id": "2bd06812",
   "metadata": {},
   "outputs": [],
   "source": [
    "import nest_asyncio\n",
    "\n",
    "nest_asyncio.apply()"
   ]
  },
  {
   "cell_type": "code",
   "execution_count": 18,
   "id": "6cfc6ed4",
   "metadata": {},
   "outputs": [],
   "source": [
    "\n",
    "import os\n",
    "\n",
    "from pydantic_ai.agent import Agent\n",
    "from pydantic_ai.common_tools.tavily import tavily_search_tool"
   ]
  },
  {
   "cell_type": "code",
   "execution_count": null,
   "id": "cf294c9b",
   "metadata": {},
   "outputs": [],
   "source": [
    "\n",
    "# setup Groq API Key\n",
    "os.environ[\"GROQ_API_KEY\"] = \"your_groq_api_key\"  # <-- Replace with your actual valid key"
   ]
  },
  {
   "cell_type": "code",
   "execution_count": null,
   "id": "58b4100a",
   "metadata": {},
   "outputs": [],
   "source": [
    "# Tavily API key\n",
    "TAVILY_API_KEY = \"youtur_tavily_api_key\"  # <-- Replace with your actual valid key"
   ]
  },
  {
   "cell_type": "code",
   "execution_count": 21,
   "id": "730d5795",
   "metadata": {},
   "outputs": [],
   "source": [
    "agent = Agent(\n",
    "    'groq:llama-3.1-8b-instant',\n",
    "    tools=[tavily_search_tool(TAVILY_API_KEY)],\n",
    "    system_prompt='Search Tavily for the given query and return the results.',\n",
    ")"
   ]
  },
  {
   "cell_type": "code",
   "execution_count": 22,
   "id": "309b01ef",
   "metadata": {},
   "outputs": [
    {
     "name": "stdout",
     "output_type": "stream",
     "text": [
      "Based on the search results, some of the top news in the GenAI world recently include:\n",
      "\n",
      "* Netflix has issued strict rules for the use of generative AI in its productions, including requirements for transparency, copyright compliance, and talent consent.\n",
      "* A MIT study has found that 95% of generative AI business integrations are failing to yield significant revenue acceleration, sparking concerns about an unsustainable AI bubble.\n",
      "* The use of GenAI has been accused of manipulating photographs in a true crime documentary, leading to criticism and calls for greater transparency.\n",
      "* Meta Platforms is set to reveal Hypernova smart glasses with a display and a gesture-control wristband at its annual Connect conference.\n",
      "* Silicon Valley has shifted from its Web 2.0 heyday of perks and consumer apps to a more intense AI-driven era, with fewer frills and tougher regulations.\n",
      "* An MIT study has revealed that generative AI's impact on jobs is gradual and industry-specific, not catastrophic.\n",
      "* AI travel tools are becoming increasingly popular, but their effectiveness is still unclear.\n",
      "\n",
      "These news stories highlight some of the current trends and challenges in the GenAI space, including the need for greater transparency and regulation, the limitations of AI in business applications, and the potential impact of AI on jobs and industries.\n"
     ]
    }
   ],
   "source": [
    "\n",
    "result = agent.run_sync('Tell me the top news in the GenAI world recently.')\n",
    "print(result.output)"
   ]
  }
 ],
 "metadata": {
  "kernelspec": {
   "display_name": ".venv",
   "language": "python",
   "name": "python3"
  },
  "language_info": {
   "codemirror_mode": {
    "name": "ipython",
    "version": 3
   },
   "file_extension": ".py",
   "mimetype": "text/x-python",
   "name": "python",
   "nbconvert_exporter": "python",
   "pygments_lexer": "ipython3",
   "version": "3.13.5"
  }
 },
 "nbformat": 4,
 "nbformat_minor": 5
}
